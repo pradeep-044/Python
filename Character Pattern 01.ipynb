{
 "cells": [
  {
   "cell_type": "markdown",
   "id": "3fd4d29c",
   "metadata": {},
   "source": [
    "# Pattern making using python  "
   ]
  },
  {
   "cell_type": "markdown",
   "id": "c45e7b0e",
   "metadata": {},
   "source": [
    "## pattern 01"
   ]
  },
  {
   "cell_type": "code",
   "execution_count": 3,
   "id": "d224bcb6",
   "metadata": {},
   "outputs": [
    {
     "name": "stdout",
     "output_type": "stream",
     "text": [
      "Enter nunber of rows that you want (ODD NUMBER) : 15\n",
      "*             * * * * * * * * \n",
      "*             *               \n",
      "*             *               \n",
      "*             *               \n",
      "*             *               \n",
      "*             *               \n",
      "*             *               \n",
      "* * * * * * * * * * * * * * * \n",
      "              *             * \n",
      "              *             * \n",
      "              *             * \n",
      "              *             * \n",
      "              *             * \n",
      "              *             * \n",
      "* * * * * * * *             * \n",
      "I your pattern 57 stars found\n"
     ]
    }
   ],
   "source": [
    "\n",
    "n = int(input(\"Enter nunber of rows that you want (ODD NUMBER) : \"))\n",
    "x = 0\n",
    "half = n//2\n",
    "\n",
    "for i in range(n):\n",
    "    for j in range(n):\n",
    "        if i==half or j==half or (i<=half and j==0) or (i>half and j==n-1) or (j<=half and i==n-1) or (j>half and i==0):\n",
    "        #if i==half or j==half or (j==0 and not i<5) or :\n",
    "            print(\"*\" , end=\" \")\n",
    "            x+=1\n",
    "        else:\n",
    "            print(\" \",end=\" \")\n",
    "    print()\n",
    "print(f\"I your pattern {x} stars found\")\n"
   ]
  },
  {
   "cell_type": "markdown",
   "id": "af3dfb8d",
   "metadata": {},
   "source": [
    "## Pattern 02 "
   ]
  },
  {
   "cell_type": "code",
   "execution_count": 2,
   "id": "74d3fb32",
   "metadata": {},
   "outputs": [
    {
     "name": "stdout",
     "output_type": "stream",
     "text": [
      "Enter number: 15\n",
      "+ - - - - - - + - - - - - - + \n",
      "/             /             / \n",
      "/             /             / \n",
      "/             /             / \n",
      "/             /             / \n",
      "/             /             / \n",
      "/             /             / \n",
      "+ - - - - - - + - - - - - - + \n",
      "/             /             / \n",
      "/             /             / \n",
      "/             /             / \n",
      "/             /             / \n",
      "/             /             / \n",
      "/             /             / \n",
      "+ - - - - - - + - - - - - - + \n"
     ]
    }
   ],
   "source": [
    "\n",
    "no = int(input(\"Enter number: \"))\n",
    "half = no//2\n",
    "m1 = no-1\n",
    "for i in range(no):\n",
    "    for j in range(no):\n",
    "        if (j==0 or j==half or j==m1) and (i==0 or i==half or i==m1):\n",
    "            print(\"+\",end=\" \")\n",
    "        elif (j==0 or j==half or j==m1) and (i!=0 and i!=half and i!=m1) :\n",
    "            print(\"/\", end=\" \")\n",
    "\n",
    "        elif (i==0 or i==half or i==m1) and (j!=0 and j!=half and j!=m1) :\n",
    "            print(\"-\", end=\" \")\n",
    "\n",
    "        else:\n",
    "            print(\" \", end=\" \")\n",
    "\n",
    "    print()\n"
   ]
  },
  {
   "cell_type": "markdown",
   "id": "b27adf0a",
   "metadata": {},
   "source": [
    "## Pattern 03\n"
   ]
  },
  {
   "cell_type": "code",
   "execution_count": 4,
   "id": "2fcfb1c6",
   "metadata": {},
   "outputs": [
    {
     "name": "stdout",
     "output_type": "stream",
     "text": [
      "enter no of * stars side - 8\n",
      "* * * * * * * * \n",
      "* * * * * * * * \n",
      "* * * * * * * * \n",
      "* * * * * * * * \n",
      "* * * * * * * * \n",
      "* * * * * * * * \n",
      "* * * * * * * * \n",
      "* * * * * * * * \n"
     ]
    }
   ],
   "source": [
    "\n",
    "n = int(input(\"enter no of * stars side - \"))\n",
    "for i in range(n):\n",
    "    for j in range(n):\n",
    "        print(\"*\",end=\" \")\n",
    "\n",
    "    print()\n"
   ]
  },
  {
   "cell_type": "markdown",
   "id": "6e6cd68b",
   "metadata": {},
   "source": [
    "## Pattern 04 "
   ]
  },
  {
   "cell_type": "code",
   "execution_count": 5,
   "id": "24b8243c",
   "metadata": {},
   "outputs": [
    {
     "name": "stdout",
     "output_type": "stream",
     "text": [
      "enter (odd number)- 15\n",
      "              * \n",
      "            * * * \n",
      "          * * * * * \n",
      "        * * * * * * * \n",
      "      * * * * * * * * * \n",
      "    * * * * * * * * * * * \n",
      "  * * * * * * * * * * * * * \n",
      "* * * * * * * * * * * * * * * \n",
      "  * * * * * * * * * * * * * \n",
      "    * * * * * * * * * * * \n",
      "      * * * * * * * * * \n",
      "        * * * * * * * \n",
      "          * * * * * \n",
      "            * * * \n",
      "              * \n"
     ]
    }
   ],
   "source": [
    "n = int(input(\"enter (odd number)- \"))\n",
    "f_up = (n//2)+1\n",
    "f_down  = n - f_up\n",
    "\n",
    "\n",
    "for i in range (f_up):\n",
    "\n",
    "    for j in range(f_up-i-1):\n",
    "        print(\" \",end=\" \")\n",
    "\n",
    "    for j in range(i+1):\n",
    "        print(\"*\",end=\" \")\n",
    "    \n",
    "    for j in range(i):\n",
    "        print(\"*\", end=\" \")\n",
    "   \n",
    "    print()\n",
    "\n",
    "for i in range(f_down):\n",
    "\n",
    "    for j in range(i+1):\n",
    "        print(\" \", end=\" \")\n",
    "\n",
    "    for j in range(f_down-i):\n",
    "        print(\"*\", end=\" \")\n",
    "\n",
    "    for j in range(f_down-i-1):\n",
    "        print(\"*\", end=\" \")\n",
    "\n",
    "    print()"
   ]
  },
  {
   "cell_type": "markdown",
   "id": "c5da308e",
   "metadata": {},
   "source": [
    "## Pattern 05 "
   ]
  },
  {
   "cell_type": "code",
   "execution_count": 6,
   "id": "9e85f759",
   "metadata": {},
   "outputs": [
    {
     "name": "stdout",
     "output_type": "stream",
     "text": [
      "enter odd number - 7\n",
      "*           * \n",
      "* *       * * \n",
      "* * *   * * * \n",
      "* * * * * * * \n",
      "* * *   * * * \n",
      "* *       * * \n",
      "*           * \n"
     ]
    }
   ],
   "source": [
    "n = int(input(\"enter odd number - \"))\n",
    "# this code is for create a butterfly patten \n",
    "upside = downside = (n-1)//2\n",
    "\n",
    "for i in range(upside):\n",
    "\n",
    "    for j in range(i+1):\n",
    "        print(\"*\", end=\" \")\n",
    "\n",
    "    for j in range(upside - i):\n",
    "        print(\" \", end=\" \")\n",
    "\n",
    "    for j in range(upside-i-1):\n",
    "        print(\" \", end=\" \")\n",
    "\n",
    "    for j in range(i+1):\n",
    "        print(\"*\", end=\" \")\n",
    "\n",
    "    print()\n",
    "\n",
    "for k in range(n):\n",
    "    print(\"*\",end=\" \")\n",
    "print()\n",
    "for i in range(downside):\n",
    "\n",
    "    for j in range(downside-i):\n",
    "        print(\"*\",end=\" \")\n",
    "\n",
    "    for j in range(i+1):\n",
    "        print(\" \",end=\" \")\n",
    "\n",
    "    for j in range(i):\n",
    "        print(\" \",end=\" \")\n",
    "\n",
    "    for j in range(downside-i):\n",
    "        print(\"*\",end=\" \")\n",
    "\n",
    "\n",
    "    print()"
   ]
  },
  {
   "cell_type": "code",
   "execution_count": null,
   "id": "9d4040d7",
   "metadata": {},
   "outputs": [],
   "source": []
  }
 ],
 "metadata": {
  "kernelspec": {
   "display_name": "Python 3 (ipykernel)",
   "language": "python",
   "name": "python3"
  },
  "language_info": {
   "codemirror_mode": {
    "name": "ipython",
    "version": 3
   },
   "file_extension": ".py",
   "mimetype": "text/x-python",
   "name": "python",
   "nbconvert_exporter": "python",
   "pygments_lexer": "ipython3",
   "version": "3.9.12"
  }
 },
 "nbformat": 4,
 "nbformat_minor": 5
}
