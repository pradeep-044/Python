{
 "cells": [
  {
   "cell_type": "markdown",
   "id": "c2115303",
   "metadata": {},
   "source": [
    "# Number Patterns 01"
   ]
  },
  {
   "cell_type": "markdown",
   "id": "790f9aa8",
   "metadata": {},
   "source": [
    "## Pattern 01 "
   ]
  },
  {
   "cell_type": "code",
   "execution_count": 1,
   "id": "858a5244",
   "metadata": {},
   "outputs": [
    {
     "name": "stdout",
     "output_type": "stream",
     "text": [
      "0 \n",
      "2 2 \n",
      "4 4 4 \n",
      "6 6 6 6 \n",
      "8 8 8 8 8 \n"
     ]
    }
   ],
   "source": [
    "\n",
    "p = 0\n",
    "for i in range(5):\n",
    "\n",
    "    for j in range (i+1):\n",
    "        print(p,end=\" \")\n",
    "    p+=2\n",
    "\n",
    "    print()\n",
    "\n"
   ]
  },
  {
   "cell_type": "markdown",
   "id": "661deea4",
   "metadata": {},
   "source": [
    "## Pattern 02"
   ]
  },
  {
   "cell_type": "code",
   "execution_count": 2,
   "id": "0c33a2da",
   "metadata": {},
   "outputs": [
    {
     "name": "stdout",
     "output_type": "stream",
     "text": [
      "5 5 5 5 5 5 5 5 5 \n",
      "  4 4 4 4 4 4 4 \n",
      "    3 3 3 3 3 \n",
      "      2 2 2 \n",
      "        1 \n",
      "      2 2 2 \n",
      "    3 3 3 3 3 \n",
      "  4 4 4 4 4 4 4 \n",
      "5 5 5 5 5 5 5 5 5 \n"
     ]
    }
   ],
   "source": [
    "for i in range(5):\n",
    "    for j in range (i):\n",
    "        print(\" \",end=\" \")\n",
    "\n",
    "    for j in range ((5-i)*2-1):\n",
    "        print(5-i,end=\" \")\n",
    "\n",
    "    print()\n",
    "for i in range (4):\n",
    "    for j in range(3-i):\n",
    "        print(\" \", end=\" \")\n",
    "\n",
    "    for j in range((i+2)*2-1):\n",
    "        print(i+2,end=\" \")\n",
    "\n",
    "    print()"
   ]
  },
  {
   "cell_type": "markdown",
   "id": "93ff951f",
   "metadata": {},
   "source": [
    "## Pattern 03 "
   ]
  },
  {
   "cell_type": "code",
   "execution_count": 3,
   "id": "f100faf6",
   "metadata": {},
   "outputs": [
    {
     "name": "stdout",
     "output_type": "stream",
     "text": [
      "      1 \n",
      "    1 2 1 \n",
      "  1 2 3 2 1 \n",
      "1 2 3 4 3 2 1 \n"
     ]
    }
   ],
   "source": [
    "for i in range(4):\n",
    "    for j in range (3-i):\n",
    "        print(\" \",end=\" \")\n",
    "\n",
    "    for j in range (i+1):\n",
    "        print(j+1,end=\" \")\n",
    "\n",
    "    for j in range ((i-1),-1,-1):\n",
    "        print(j+1,end=\" \")\n",
    "    print()"
   ]
  },
  {
   "cell_type": "markdown",
   "id": "9b0e157b",
   "metadata": {},
   "source": [
    "## Pattern 04"
   ]
  },
  {
   "cell_type": "code",
   "execution_count": 4,
   "id": "e0a67dd3",
   "metadata": {},
   "outputs": [
    {
     "name": "stdout",
     "output_type": "stream",
     "text": [
      "1 \n",
      "1 2 \n",
      "1 2 3 \n",
      "1 2 3 4 \n",
      "\n",
      "1 2 3 4 \n",
      "  1 2 3 \n",
      "    1 2 \n",
      "      1 \n"
     ]
    }
   ],
   "source": [
    "\n",
    "\n",
    "for i in range(4):\n",
    "    for j in range(i+1):\n",
    "        print(j+1,end=\" \")\n",
    "\n",
    "    print()\n",
    "\n",
    "print()\n",
    "\n",
    "for i in range(4):\n",
    "    for j in range(i):\n",
    "        print(\" \",end=\" \")\n",
    "\n",
    "    for j in range(4-i):\n",
    "        print(j+1,end=\" \")\n",
    "\n",
    "    print()\n"
   ]
  },
  {
   "cell_type": "markdown",
   "id": "c0eacc3e",
   "metadata": {},
   "source": [
    "## Pattern 05"
   ]
  },
  {
   "cell_type": "code",
   "execution_count": 5,
   "id": "96cb8323",
   "metadata": {},
   "outputs": [
    {
     "name": "stdout",
     "output_type": "stream",
     "text": [
      "1               1 \n",
      "1 2           1 2 \n",
      "1 2 3       1 2 3 \n",
      "1 2 3 4   1 2 3 4 \n",
      "\n",
      "1 2 3 4   1 2 3 4 \n",
      "1 2 3       1 2 3 \n",
      "1 2           1 2 \n",
      "1               1 \n"
     ]
    }
   ],
   "source": [
    "for i in range(4):\n",
    "    for j in range(i+1):\n",
    "        print(j+1 ,end=\" \")\n",
    "\n",
    "    for j in range((4-i)*2-1):\n",
    "        print(\" \",end=\" \")\n",
    "\n",
    "    for j in range(i+1):\n",
    "        print(j+1 ,end=\" \")\n",
    "\n",
    "    print()\n",
    "print()\n",
    "\n",
    "for i in range (4):\n",
    "    for j in range(5-i-1):\n",
    "        print(j+1,end=\" \")\n",
    "\n",
    "    for j in range((i+1)*2-1):\n",
    "        print(\" \",end=\" \")\n",
    "\n",
    "    for j in range(5-i-1):\n",
    "        print(j+1,end=\" \")\n",
    "\n",
    "    print()"
   ]
  }
 ],
 "metadata": {
  "kernelspec": {
   "display_name": "Python 3 (ipykernel)",
   "language": "python",
   "name": "python3"
  },
  "language_info": {
   "codemirror_mode": {
    "name": "ipython",
    "version": 3
   },
   "file_extension": ".py",
   "mimetype": "text/x-python",
   "name": "python",
   "nbconvert_exporter": "python",
   "pygments_lexer": "ipython3",
   "version": "3.9.12"
  }
 },
 "nbformat": 4,
 "nbformat_minor": 5
}
